{
 "cells": [
  {
   "cell_type": "markdown",
   "id": "78b2d1ff",
   "metadata": {},
   "source": [
    "# Exploring the AIND-ephys outputs using SpikeInterface\n",
    "\n",
    "### Notebook usage:\n",
    "- This notebook will allow you to visualize and explore the spike sorting results. \n",
    "- This is quite slow for large datasets if you are not using the curation GUI.\n",
    "- This notebook assumes some comfort with spike sorting and electrophysiology data. In addition, a basic understanding of [SpikeInterface](https://spikeinterface.readthedocs.io/en/latest/index.html) is helpful."
   ]
  },
  {
   "cell_type": "markdown",
   "id": "f928da24",
   "metadata": {},
   "source": [
    "#### Requirements:\n",
    "- processed AINDS neuropixels data\n",
    "- installation of spikeinterface - if not installed, please install SpikeInterace using the following command:\n",
    "```bash\n",
    "pip install spikeinterface[full, widgets]\n",
    "```\n",
    "\n",
    "**Note**: This notebook is based on the latest version of SpikeInterface (`spikeinterface==0.101.0`) which is under development. The API may change in the future."
   ]
  },
  {
   "cell_type": "code",
   "execution_count": null,
   "id": "ff4d2fe2-bc6c-4d7f-81dd-eacb102f32cd",
   "metadata": {},
   "outputs": [],
   "source": [
    "#import packages\n",
    "import os\n",
    "import matplotlib.pyplot as plt\n",
    "import spikeinterface as si\n",
    "import spikeinterface.extractors as se\n",
    "import spikeinterface.postprocessing as spost\n",
    "import spikeinterface.widgets as sw\n",
    "from spikeinterface.curation import apply_sortingview_curation\n",
    "from spikeinterface.widgets import plot_sorting_summary"
   ]
  },
  {
   "cell_type": "code",
   "execution_count": null,
   "id": "a5e9de6e",
   "metadata": {},
   "outputs": [],
   "source": [
    "#Fetch data directories\n",
    "\n",
    "raw_rec = 'path/to/raw/recording'\n",
    "baseFolder = r\"C:\\Users\\janet\\Documents\\Tom_AINDS_output\" #edit this to the location of your data\"\n",
    "experiment = 'block0_imec0.ap_recording1_group0' #edit this to the name of your experiment folder\n",
    "\n",
    "preProcessed = baseFolder + '/preprocessed'\n",
    "postProcessed = baseFolder + '/postprocessed'\n",
    "spikes = baseFolder + '/spikesorted'\n",
    "curated = baseFolder + '/curated'\n",
    "preJSON = os.path.join(preProcessed, experiment + '.json')"
   ]
  },
  {
   "cell_type": "code",
   "execution_count": null,
   "id": "3b962ff3",
   "metadata": {},
   "outputs": [],
   "source": [
    "#Select the data to explore\n",
    "\n",
    "data_load = curated\n",
    "print(f'Set path: {data_load}')"
   ]
  },
  {
   "cell_type": "markdown",
   "id": "9b340228",
   "metadata": {},
   "source": [
    "## First, let's load the waveform extractor - we'll explore the postprocessed units which are stored in the `postprocessed` folder. These units have been processed to include the following: \n",
    "* removal of duplicate units\n",
    "* computed amplitudes\n",
    "* spike/unit locations \n",
    "* PCA\n",
    "* correlograms\n",
    "* template similarity\n",
    "* templeate metrics\n",
    "* QC metrics\n",
    "\n",
    "## The `curated` folder includes units that *have been* automatically curated by:\n",
    "* ISI violation ratio\n",
    "* presence ratio\n",
    "* amplitude cutoff"
   ]
  },
  {
   "cell_type": "markdown",
   "id": "862500d9",
   "metadata": {},
   "source": [
    "### First, load the wave forms and the sorting extractor\n",
    "*Note: we will use the back compatible version of the waveform extractor which is the `MockWaveformExtractor` that is used in the latest version of SpikeInterface"
   ]
  },
  {
   "cell_type": "code",
   "execution_count": null,
   "id": "0e400ae9-0058-40ae-bb29-f1306c2ccbbe",
   "metadata": {},
   "outputs": [],
   "source": [
    "we =  si.load_waveforms(folder=(os.path.join(postProcessed, experiment)))\n",
    "sorting_curated = si.load_extractor(os.path.join(data_load, experiment))\n",
    "we, sorting_curated"
   ]
  },
  {
   "cell_type": "code",
   "execution_count": null,
   "id": "c30f7b37",
   "metadata": {},
   "outputs": [],
   "source": [
    "avail_extensions = we.get_available_extension_names()\n",
    "avail_extensions"
   ]
  },
  {
   "cell_type": "code",
   "execution_count": null,
   "id": "26a50d7c",
   "metadata": {},
   "outputs": [],
   "source": [
    "sorting_analyzer = we.sorting_analyzer\n",
    "qm=sorting_analyzer.get_extension(extension_name='quality_metrics').get_data()\n",
    "labels = sorting_curated.get_property('decoder_label')\n",
    "unit_ids = sorting_curated.get_unit_ids()\n",
    "unit_locations = sorting_analyzer.get_extension(\"unit_locations\").get_data()\n",
    "unit_locations = unit_locations[:,1]\n"
   ]
  },
  {
   "cell_type": "code",
   "execution_count": null,
   "id": "a009231a",
   "metadata": {},
   "outputs": [],
   "source": [
    "#create dataframe of all the quality metrics\n",
    "import pandas as pd\n",
    "df = pd.DataFrame(qm)\n",
    "df['unit_ids'] = unit_ids\n",
    "df['labels'] = labels\n",
    "df['unit_locations'] = unit_locations\n",
    "df"
   ]
  },
  {
   "cell_type": "markdown",
   "id": "fbf8b6af",
   "metadata": {},
   "source": [
    "### Subselect units to visualize. Within this for loop, a waveform plot and an autocorrelogram plot are generated for each unit. \n",
    "*Please note, the more units you visualize, the longer this will take to run. This is memory intensive and should only be used for quick exploration of units-of-interest.*"
   ]
  },
  {
   "cell_type": "code",
   "execution_count": null,
   "id": "4b0e68a5-a7da-4710-9baf-b01733115621",
   "metadata": {},
   "outputs": [],
   "source": [
    "print(\"Total units: \", len(we.unit_ids)), we.unit_ids"
   ]
  },
  {
   "cell_type": "code",
   "execution_count": null,
   "id": "221c7f36",
   "metadata": {},
   "outputs": [],
   "source": [
    "unit_ids = [0, 3] #list of unit ids to plot"
   ]
  },
  {
   "cell_type": "code",
   "execution_count": null,
   "id": "05a8103f-434e-43ad-9375-3f64542b7b41",
   "metadata": {},
   "outputs": [],
   "source": [
    "for unit_id in unit_ids:\n",
    "    fig, ax = plt.subplots()\n",
    "    template = we.get_template(unit_id=unit_id)\n",
    "    ax.plot(template)\n",
    "    ax.set_title(f'{unit_id}')\n",
    "    #sw.plot_autocorrelograms(sorting_curated, window_ms=150.0, bin_ms=5.0, unit_ids=[unit_id])\n",
    "    \n",
    "plt.show()"
   ]
  },
  {
   "cell_type": "markdown",
   "id": "f55bc60e",
   "metadata": {},
   "source": [
    "## Launching the spikeinterface GUI for manual curation\n",
    "\n",
    "* We can use the QT-based GUI [SpikeInterface-GUI](https://github.com/SpikeInterface/spikeinterface-gui) to visualize and curate the sorting output. You will need the raw recording as long as the sorting object. You will then need to create the `sorting_analyzer` object and run the GUI. \n",
    "\n",
    "* In addition to the GUI, there are some automatic curation tools that can be leverged such as `get_potential_auto_merge()` and `remove_duplicated_spikes()`\n",
    "\n",
    "* If a GUI is not desired, you can also curate within the notebook by manually relabeling the labeling definitions. More details for automatic curation tools and manual relabeling can be found [here](https://spikeinterface.readthedocs.io/en/latest/modules/curation.html#curation)"
   ]
  },
  {
   "cell_type": "code",
   "execution_count": null,
   "id": "2d3cd237",
   "metadata": {},
   "outputs": [],
   "source": [
    "sorting_analyzer = si.create_sorting_analyzer(sorting=sorting_curated, recording=raw_rec)\n",
    "\n",
    "# some extensions are required\n",
    "sorting_analyzer.compute([\n",
    "    \"random_spikes\",\n",
    "    \"noise_levels\",\n",
    "    \"templates\",\n",
    "    \"template_similarity\",\n",
    "    \"unit_locations\",\n",
    "    \"spike_amplitudes\",\n",
    "    \"principal_components\",\n",
    "    \"correlograms\"\n",
    "    ]\n",
    ")\n",
    "sorting_analyzer.compute(\"quality_metrics\", metric_names=[\"snr\"])\n",
    "\n",
    "# this will open the GUI in a different window\n",
    "plot_sorting_summary(sorting_analyzer=sorting_analyzer, curation=True, backend='spikeinterface_gui')"
   ]
  }
 ],
 "metadata": {
  "kernelspec": {
   "display_name": "Python 3 (ipykernel)",
   "language": "python",
   "name": "python3"
  },
  "language_info": {
   "codemirror_mode": {
    "name": "ipython",
    "version": 3
   },
   "file_extension": ".py",
   "mimetype": "text/x-python",
   "name": "python",
   "nbconvert_exporter": "python",
   "pygments_lexer": "ipython3",
   "version": "3.10.14"
  }
 },
 "nbformat": 4,
 "nbformat_minor": 5
}
